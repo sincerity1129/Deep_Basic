{
 "cells": [
  {
   "cell_type": "markdown",
   "id": "6044a736",
   "metadata": {},
   "source": [
    "# 딥러닝 기본 개념"
   ]
  },
  {
   "cell_type": "code",
   "execution_count": 1,
   "id": "ffb3bb67",
   "metadata": {},
   "outputs": [],
   "source": [
    "import numpy as np"
   ]
  },
  {
   "cell_type": "code",
   "execution_count": 2,
   "id": "ba021a17",
   "metadata": {},
   "outputs": [
    {
     "name": "stdout",
     "output_type": "stream",
     "text": [
      "1\n",
      "(7,)\n"
     ]
    }
   ],
   "source": [
    "t = np.array([0., 1., 2., 3., 4., 5., 6.])\n",
    "print(t.ndim)\n",
    "print(t.shape)"
   ]
  },
  {
   "cell_type": "markdown",
   "id": "dbfb7d26",
   "metadata": {},
   "source": [
    "# tensorflow -> array 만들기"
   ]
  },
  {
   "cell_type": "code",
   "execution_count": 3,
   "id": "34e10fef",
   "metadata": {},
   "outputs": [
    {
     "name": "stdout",
     "output_type": "stream",
     "text": [
      "WARNING:tensorflow:From C:\\Users\\since\\anaconda3\\lib\\site-packages\\tensorflow\\python\\compat\\v2_compat.py:101: disable_resource_variables (from tensorflow.python.ops.variable_scope) is deprecated and will be removed in a future version.\n",
      "Instructions for updating:\n",
      "non-resource variables are not supported in the long term\n"
     ]
    }
   ],
   "source": [
    "import tensorflow.compat.v1 as tf\n",
    "tf.disable_v2_behavior()"
   ]
  },
  {
   "cell_type": "markdown",
   "id": "21759c9d",
   "metadata": {},
   "source": [
    "# eval() 쓰기 위해 session을 열어야함"
   ]
  },
  {
   "cell_type": "code",
   "execution_count": 4,
   "id": "c8b47dbd",
   "metadata": {},
   "outputs": [],
   "source": [
    "sess = tf.InteractiveSession()"
   ]
  },
  {
   "cell_type": "code",
   "execution_count": 5,
   "id": "8638ea2c",
   "metadata": {},
   "outputs": [
    {
     "data": {
      "text/plain": [
       "array([[1, 2, 3],\n",
       "       [1, 2, 3]])"
      ]
     },
     "execution_count": 5,
     "metadata": {},
     "output_type": "execute_result"
    }
   ],
   "source": [
    "t1 = tf.constant([[1,2,3], [1,2,3]])\n",
    "t1.eval()"
   ]
  },
  {
   "cell_type": "code",
   "execution_count": 6,
   "id": "cc50a92b",
   "metadata": {},
   "outputs": [
    {
     "data": {
      "text/plain": [
       "array([[ 1,  2,  4,  1,  3,  4,  5],\n",
       "       [ 4,  4,  6, 14,  3,  3,  3],\n",
       "       [ 1,  2,  7,  4, 78,  3,  1]])"
      ]
     },
     "execution_count": 6,
     "metadata": {},
     "output_type": "execute_result"
    }
   ],
   "source": [
    "t2 = tf.constant([[1,2,4,1,3,4,5],[4,4,6,14,3,3,3],[1,2,7,4,78,3,1]])\n",
    "t2.eval()"
   ]
  },
  {
   "cell_type": "markdown",
   "id": "97e9c5d6",
   "metadata": {},
   "source": [
    "# matmul 사용(shape가 다르면 사용 불가)\n",
    "- tf.matmul(a,b)라고 할 때 차원은 동일해야함\n",
    "- a의 열과 b의 행이 동일해야함\n",
    "- shape의 행은 a의 행과 일치하며, 열은 b의 열과 일치\n",
    "- matmul(a(2,3), b(3,7))  --> shape는 (2,7)"
   ]
  },
  {
   "cell_type": "code",
   "execution_count": 7,
   "id": "1284ab59",
   "metadata": {
    "scrolled": true
   },
   "outputs": [
    {
     "data": {
      "text/plain": [
       "array([[ 12,  16,  37,  41, 243,  19,  14],\n",
       "       [ 12,  16,  37,  41, 243,  19,  14]])"
      ]
     },
     "execution_count": 7,
     "metadata": {},
     "output_type": "execute_result"
    }
   ],
   "source": [
    "tf.matmul(t1,t2).eval()"
   ]
  },
  {
   "cell_type": "markdown",
   "id": "5e0109e4",
   "metadata": {},
   "source": [
    "# boardcasting(shape가 다르더라도 사용가능)\n",
    "- a와 b가 있다면 b(a보다 한차원 낮고 a의 나머지 차원과 b의 값이 일치해야함)\n",
    "- a(1,3,5) + b(3,5) --> shape는 (1,3,5)"
   ]
  },
  {
   "cell_type": "code",
   "execution_count": 8,
   "id": "cca5c279",
   "metadata": {},
   "outputs": [
    {
     "data": {
      "text/plain": [
       "array([[[1, 2, 3],\n",
       "        [1, 2, 3]],\n",
       "\n",
       "       [[1, 2, 3],\n",
       "        [1, 2, 3]]])"
      ]
     },
     "execution_count": 8,
     "metadata": {},
     "output_type": "execute_result"
    }
   ],
   "source": [
    "t3 = tf.constant([[[1,2,3], [1,2,3]],[[1,2,3], [1,2,3]]])\n",
    "t3.eval()"
   ]
  },
  {
   "cell_type": "code",
   "execution_count": 9,
   "id": "c3ef74db",
   "metadata": {},
   "outputs": [
    {
     "data": {
      "text/plain": [
       "array([[1, 2, 3]])"
      ]
     },
     "execution_count": 9,
     "metadata": {},
     "output_type": "execute_result"
    }
   ],
   "source": [
    "t4 = tf.constant([ [1,2,3]])\n",
    "t4.eval()"
   ]
  },
  {
   "cell_type": "code",
   "execution_count": 10,
   "id": "e8198d12",
   "metadata": {},
   "outputs": [
    {
     "data": {
      "text/plain": [
       "array([[[1, 4, 9],\n",
       "        [1, 4, 9]],\n",
       "\n",
       "       [[1, 4, 9],\n",
       "        [1, 4, 9]]])"
      ]
     },
     "execution_count": 10,
     "metadata": {},
     "output_type": "execute_result"
    }
   ],
   "source": [
    "(t3*t4).eval()"
   ]
  },
  {
   "cell_type": "markdown",
   "id": "e4e1958f",
   "metadata": {},
   "source": [
    "# reduce mean(평균 값을 구해줌)"
   ]
  },
  {
   "cell_type": "code",
   "execution_count": 11,
   "id": "57ae597a",
   "metadata": {},
   "outputs": [
    {
     "data": {
      "text/plain": [
       "2"
      ]
     },
     "execution_count": 11,
     "metadata": {},
     "output_type": "execute_result"
    }
   ],
   "source": [
    "tf.reduce_mean([1,2,3,5], axis=0).eval()"
   ]
  },
  {
   "cell_type": "markdown",
   "id": "ddfb610f",
   "metadata": {},
   "source": [
    "###### 1행과 2행의 평균을 각각 구하고 1행(1.5), 2행(3.5) 이 둘의 평균을 다시 구함 // (1.5+3.5)/2 = 2.5"
   ]
  },
  {
   "cell_type": "code",
   "execution_count": 12,
   "id": "a180525e",
   "metadata": {},
   "outputs": [
    {
     "data": {
      "text/plain": [
       "2.5"
      ]
     },
     "execution_count": 12,
     "metadata": {},
     "output_type": "execute_result"
    }
   ],
   "source": [
    "x = [[1.,2.],[3.,4.]]\n",
    "tf.reduce_mean(x).eval()"
   ]
  },
  {
   "cell_type": "markdown",
   "id": "4ea2b786",
   "metadata": {},
   "source": [
    "# axis = 0(행) // 1(열) "
   ]
  },
  {
   "cell_type": "code",
   "execution_count": 13,
   "id": "48d5e5e8",
   "metadata": {},
   "outputs": [
    {
     "data": {
      "text/plain": [
       "array([2., 3.], dtype=float32)"
      ]
     },
     "execution_count": 13,
     "metadata": {},
     "output_type": "execute_result"
    }
   ],
   "source": [
    "# 1과 3의 평균 // 2와 4의 평균\n",
    "tf.reduce_mean(x, axis=0).eval()"
   ]
  },
  {
   "cell_type": "code",
   "execution_count": 14,
   "id": "3854b9c6",
   "metadata": {},
   "outputs": [
    {
     "data": {
      "text/plain": [
       "array([1.5, 3.5], dtype=float32)"
      ]
     },
     "execution_count": 14,
     "metadata": {},
     "output_type": "execute_result"
    }
   ],
   "source": [
    "# 1와 2의 평균 // 3과 4의 평균\n",
    "tf.reduce_mean(x, axis=1).eval()"
   ]
  },
  {
   "cell_type": "markdown",
   "id": "ae486ed1",
   "metadata": {},
   "source": [
    "###### 전체의 axis을 사용하지 않을 경우 전체 값의 합을 구해줌"
   ]
  },
  {
   "cell_type": "code",
   "execution_count": 15,
   "id": "776bb0e6",
   "metadata": {},
   "outputs": [
    {
     "data": {
      "text/plain": [
       "10.0"
      ]
     },
     "execution_count": 15,
     "metadata": {},
     "output_type": "execute_result"
    }
   ],
   "source": [
    "tf.reduce_sum(x).eval()"
   ]
  },
  {
   "cell_type": "code",
   "execution_count": 186,
   "id": "3ef6341c",
   "metadata": {},
   "outputs": [
    {
     "data": {
      "text/plain": [
       "array([4., 6.], dtype=float32)"
      ]
     },
     "execution_count": 186,
     "metadata": {},
     "output_type": "execute_result"
    }
   ],
   "source": [
    "# 1과 3의 합 // 2와 4의 합\n",
    "tf.reduce_sum(x, axis=0).eval()"
   ]
  },
  {
   "cell_type": "code",
   "execution_count": 187,
   "id": "e634c8eb",
   "metadata": {},
   "outputs": [
    {
     "data": {
      "text/plain": [
       "array([3., 7.], dtype=float32)"
      ]
     },
     "execution_count": 187,
     "metadata": {},
     "output_type": "execute_result"
    }
   ],
   "source": [
    "# 1와 2의 합 // 3과 4의 합\n",
    "tf.reduce_sum(x, axis=1).eval()"
   ]
  },
  {
   "cell_type": "markdown",
   "id": "43dc9785",
   "metadata": {},
   "source": [
    "# 전체의 합을 구하고 평균을 구하는 방식"
   ]
  },
  {
   "cell_type": "code",
   "execution_count": 192,
   "id": "a837c68c",
   "metadata": {},
   "outputs": [
    {
     "data": {
      "text/plain": [
       "5.0"
      ]
     },
     "execution_count": 192,
     "metadata": {},
     "output_type": "execute_result"
    }
   ],
   "source": [
    "# (1과2의 합3, 3과 4의 합7) -> (3, 7) -> 3과 7의 평균 -> 5 \n",
    "tf.reduce_mean(tf.reduce_sum(x, axis=-1)).eval()"
   ]
  },
  {
   "cell_type": "markdown",
   "id": "dc91cb1d",
   "metadata": {},
   "source": [
    "# Argmax 사용법"
   ]
  },
  {
   "cell_type": "code",
   "execution_count": 193,
   "id": "c1a25869",
   "metadata": {},
   "outputs": [],
   "source": [
    "x = [[0,1,2], [2,1,0]]"
   ]
  },
  {
   "cell_type": "code",
   "execution_count": 196,
   "id": "84e4f9b6",
   "metadata": {},
   "outputs": [
    {
     "data": {
      "text/plain": [
       "array([1, 0, 0], dtype=int64)"
      ]
     },
     "execution_count": 196,
     "metadata": {},
     "output_type": "execute_result"
    }
   ],
   "source": [
    "# 비교해서 높은 축에 있는 값을 넣어주는 역할\n",
    "# 0과 2 비교 시 -> 2가 크므로 1번째 인덱스 // 1과 1 비교 시 -> 동일하므로 0번째 인덱스 // 2와 0 비교시 -> 2가 크므로 0번째 인덱스\n",
    "tf.argmax(x, axis=0).eval()"
   ]
  },
  {
   "cell_type": "code",
   "execution_count": 197,
   "id": "aec68682",
   "metadata": {},
   "outputs": [
    {
     "data": {
      "text/plain": [
       "array([2, 0], dtype=int64)"
      ]
     },
     "execution_count": 197,
     "metadata": {},
     "output_type": "execute_result"
    }
   ],
   "source": [
    "# 0과 1과 2 비교 시 -> 2가 크므로 2번째 인덱스 // 2와 1과 0 비교 시 -> 2가 크므로 0번째 인덱스\n",
    "tf.argmax(x, axis=1).eval()"
   ]
  },
  {
   "cell_type": "code",
   "execution_count": 198,
   "id": "3a2c40a8",
   "metadata": {},
   "outputs": [
    {
     "data": {
      "text/plain": [
       "array([2, 0], dtype=int64)"
      ]
     },
     "execution_count": 198,
     "metadata": {},
     "output_type": "execute_result"
    }
   ],
   "source": [
    "tf.argmax(x, axis=-1).eval()"
   ]
  },
  {
   "cell_type": "markdown",
   "id": "90c81ae3",
   "metadata": {},
   "source": [
    "# reshape 사용법\n",
    "- shape 전체 값을 곱한 약수는 모두 사용 가능\n",
    "- 특정 차원에 -1을 하면 나머지 차원을 곱하고 남은 값으로 채워줌\n",
    "- shape(8,6,2) -> reshape(3,-1,2) -> 8*6*2= 96 // 96/6 -> -1로 설정한 차원의 값은 16이됨"
   ]
  },
  {
   "cell_type": "code",
   "execution_count": 208,
   "id": "99942b5e",
   "metadata": {},
   "outputs": [
    {
     "name": "stdout",
     "output_type": "stream",
     "text": [
      "[[[ 0  1  2]\n",
      "  [ 3  4  5]]\n",
      "\n",
      " [[ 6  7  8]\n",
      "  [ 9 10 11]]]\n",
      "(2, 2, 3)\n"
     ]
    }
   ],
   "source": [
    "t = np.array([[[0, 1, 2], [3, 4, 5]],[[6, 7, 8], [9, 10, 11]]])\n",
    "print(t)\n",
    "print(t.shape)"
   ]
  },
  {
   "cell_type": "code",
   "execution_count": 207,
   "id": "3a414e20",
   "metadata": {},
   "outputs": [
    {
     "name": "stdout",
     "output_type": "stream",
     "text": [
      "[[ 0  1  2]\n",
      " [ 3  4  5]\n",
      " [ 6  7  8]\n",
      " [ 9 10 11]]\n",
      "(4, 3)\n"
     ]
    }
   ],
   "source": [
    "t1 = tf.reshape(t, shape=[-1, 3]).eval()\n",
    "print(t1)\n",
    "print(t1.shape)"
   ]
  },
  {
   "cell_type": "code",
   "execution_count": 222,
   "id": "9a405b5a",
   "metadata": {},
   "outputs": [
    {
     "name": "stdout",
     "output_type": "stream",
     "text": [
      "[[[ 0  1]\n",
      "  [ 2  3]\n",
      "  [ 4  5]]\n",
      "\n",
      " [[ 6  7]\n",
      "  [ 8  9]\n",
      "  [10 11]]]\n",
      "(2, 3, 2)\n"
     ]
    }
   ],
   "source": [
    "t2 = tf.reshape(t, shape=[2, -1, 2]).eval()\n",
    "print(t2)\n",
    "print(t2.shape)"
   ]
  },
  {
   "cell_type": "markdown",
   "id": "6d6490d4",
   "metadata": {},
   "source": [
    "# reshape(squeeze, expand)\n",
    "- squeez -> n차원이 1일 때 차원을 줄여줌\n",
    "- expand_dims -> dim의 값에 따라 차원을 늘려줌 0일 땐 가장 n차원 1일 땐 n-1차원... -1일 땐 1차원"
   ]
  },
  {
   "cell_type": "code",
   "execution_count": 261,
   "id": "d3fe5c8c",
   "metadata": {},
   "outputs": [
    {
     "name": "stdout",
     "output_type": "stream",
     "text": [
      "[[[0 1 2]\n",
      "  [4 6 3]\n",
      "  [4 6 3]\n",
      "  [4 6 3]]]\n",
      "(1, 4, 3)\n"
     ]
    }
   ],
   "source": [
    "x = np.array([[[0,1,2],[4,6,3],[4,6,3],[4,6,3]]])\n",
    "print(x)\n",
    "print(x.shape)"
   ]
  },
  {
   "cell_type": "code",
   "execution_count": 262,
   "id": "5c6c070f",
   "metadata": {},
   "outputs": [
    {
     "name": "stdout",
     "output_type": "stream",
     "text": [
      "[[0 1 2]\n",
      " [4 6 3]\n",
      " [4 6 3]\n",
      " [4 6 3]]\n",
      "(4, 3)\n"
     ]
    }
   ],
   "source": [
    "a = tf.squeeze(x).eval()\n",
    "print(a)\n",
    "print(a.shape)"
   ]
  },
  {
   "cell_type": "code",
   "execution_count": null,
   "id": "874311f6",
   "metadata": {},
   "outputs": [],
   "source": [
    "x = np.array([[[0,1,2],[4,6,3]],[[0,1,2],[4,6,3]]])\n",
    "print(x)\n",
    "print(x.shape)"
   ]
  },
  {
   "cell_type": "code",
   "execution_count": 244,
   "id": "2564697e",
   "metadata": {
    "collapsed": true
   },
   "outputs": [
    {
     "name": "stdout",
     "output_type": "stream",
     "text": [
      "[[[[0]\n",
      "   [1]\n",
      "   [2]]\n",
      "\n",
      "  [[4]\n",
      "   [6]\n",
      "   [3]]]\n",
      "\n",
      "\n",
      " [[[0]\n",
      "   [1]\n",
      "   [2]]\n",
      "\n",
      "  [[4]\n",
      "   [6]\n",
      "   [3]]]]\n",
      "(2, 2, 3, 1)\n"
     ]
    }
   ],
   "source": [
    "b1 = tf.expand_dims(x, -1).eval()\n",
    "print(b1)\n",
    "print(b1.shape)"
   ]
  },
  {
   "cell_type": "code",
   "execution_count": 242,
   "id": "a5bb8f59",
   "metadata": {
    "collapsed": true
   },
   "outputs": [
    {
     "name": "stdout",
     "output_type": "stream",
     "text": [
      "[[[[0 1 2]\n",
      "   [4 6 3]]\n",
      "\n",
      "  [[0 1 2]\n",
      "   [4 6 3]]]]\n",
      "(1, 2, 2, 3)\n"
     ]
    }
   ],
   "source": [
    "b2 = tf.expand_dims(x, 0).eval()\n",
    "print(b2)\n",
    "print(b2.shape)"
   ]
  },
  {
   "cell_type": "markdown",
   "id": "c9d8e9ee",
   "metadata": {},
   "source": [
    "# One hot 인코딩\n",
    "- depth의 크기에 따라 분포도가 달라지는데 depth이 n일 때 n개의 열을 가짐\n",
    "- depth -> 8이라면 표현할 수 있는 n은 8개라고 생각하면됨"
   ]
  },
  {
   "cell_type": "code",
   "execution_count": 270,
   "id": "e6b23ac2",
   "metadata": {},
   "outputs": [
    {
     "name": "stdout",
     "output_type": "stream",
     "text": [
      "[[[1. 0. 0. 0. 0. 0. 0. 0. 0. 0. 0. 0. 0. 0. 0. 0. 0. 0. 0. 0. 0. 0. 0.\n",
      "   0. 0.]]\n",
      "\n",
      " [[0. 0. 0. 0. 0. 0. 0. 0. 0. 0. 0. 0. 0. 0. 0. 0. 0. 0. 0. 0. 0. 0. 0.\n",
      "   0. 1.]]\n",
      "\n",
      " [[0. 0. 0. 0. 0. 0. 0. 0. 0. 0. 0. 0. 0. 0. 0. 0. 0. 0. 1. 0. 0. 0. 0.\n",
      "   0. 0.]]\n",
      "\n",
      " [[0. 0. 0. 0. 0. 0. 0. 1. 0. 0. 0. 0. 0. 0. 0. 0. 0. 0. 0. 0. 0. 0. 0.\n",
      "   0. 0.]]]\n",
      "(4, 1, 25)\n"
     ]
    }
   ],
   "source": [
    "t = tf.one_hot([[0], [24], [18], [7]], depth=25).eval()\n",
    "print(t)\n",
    "print(t.shape)"
   ]
  },
  {
   "cell_type": "code",
   "execution_count": 280,
   "id": "e6f5af9e",
   "metadata": {},
   "outputs": [
    {
     "name": "stdout",
     "output_type": "stream",
     "text": [
      "[[1. 0. 0. 0. 0. 0. 0. 0. 0. 0. 0. 0. 0. 0. 0. 0. 0. 0. 0. 0. 0. 0. 0. 0.\n",
      "  0.]\n",
      " [0. 0. 0. 0. 0. 0. 0. 0. 0. 0. 0. 0. 0. 0. 0. 0. 0. 0. 0. 0. 0. 0. 0. 0.\n",
      "  1.]\n",
      " [0. 0. 0. 0. 0. 0. 0. 0. 0. 0. 0. 0. 0. 0. 0. 0. 0. 0. 1. 0. 0. 0. 0. 0.\n",
      "  0.]\n",
      " [0. 0. 0. 0. 0. 0. 0. 1. 0. 0. 0. 0. 0. 0. 0. 0. 0. 0. 0. 0. 0. 0. 0. 0.\n",
      "  0.]]\n",
      "(4, 25)\n"
     ]
    }
   ],
   "source": [
    "# reshape을 통해 25개씩 펼쳐서 나타내고 싶다면 25개의 one hot을 1차원에 놓고 나머지 차원을 -1을 해주면 4,25로 reshape됨\n",
    "t1 = tf.reshape(t, shape=[-1,25]).eval()\n",
    "print(t1)\n",
    "print(t1.shape)"
   ]
  },
  {
   "cell_type": "markdown",
   "id": "84b57a78",
   "metadata": {},
   "source": [
    "# Casting 사용법 \n",
    "- cast을 int와 함께 쓰면 float 값이 내림해서 나타낼 수 있음\n",
    "- 정답 데이터을 0과 1로 두었을 때 아래와 같이 정답이 몇개인지 확일 할 때 castg 함수를 사용하여 값을 표현할 수 있음"
   ]
  },
  {
   "cell_type": "code",
   "execution_count": 281,
   "id": "e8372808",
   "metadata": {},
   "outputs": [
    {
     "data": {
      "text/plain": [
       "array([1, 2, 3, 4])"
      ]
     },
     "execution_count": 281,
     "metadata": {},
     "output_type": "execute_result"
    }
   ],
   "source": [
    "tf.cast([1.8, 2.2, 3.3, 4.9], tf.int32).eval()"
   ]
  },
  {
   "cell_type": "code",
   "execution_count": 283,
   "id": "775fe4c3",
   "metadata": {},
   "outputs": [
    {
     "data": {
      "text/plain": [
       "array([1, 0, 1, 0])"
      ]
     },
     "execution_count": 283,
     "metadata": {},
     "output_type": "execute_result"
    }
   ],
   "source": [
    "tf.cast([True, False, 1== 1, 0 == 6], tf.int32).eval()"
   ]
  },
  {
   "cell_type": "markdown",
   "id": "d5b137dc",
   "metadata": {},
   "source": [
    "# Stack\n",
    "- stack 기본의 경우 순서대로 쌓아줌(단, shape가 동일해야함)\n",
    "- stack에 axis를 적용 할 경우 axis = 0은 기본과 같음\n",
    "- axis = 1의 경우 열과 행이 바뀐 shape 값이 도출되고 내용은 각 1행,...,n행이 한 열의 구성"
   ]
  },
  {
   "cell_type": "code",
   "execution_count": 292,
   "id": "b901f249",
   "metadata": {},
   "outputs": [
    {
     "name": "stdout",
     "output_type": "stream",
     "text": [
      "[[1 4 2 5]\n",
      " [2 5 4 1]\n",
      " [3 6 5 3]]\n",
      "(3, 4)\n"
     ]
    }
   ],
   "source": [
    "x = [1, 4, 2, 5]\n",
    "y = [2, 5, 4, 1]\n",
    "z = [3, 6, 5, 3]\n",
    "\n",
    "s = tf.stack([x, y, z]).eval()\n",
    "print(s)\n",
    "print(s.shape)"
   ]
  },
  {
   "cell_type": "code",
   "execution_count": 293,
   "id": "75500228",
   "metadata": {},
   "outputs": [
    {
     "name": "stdout",
     "output_type": "stream",
     "text": [
      "[[1 2 3]\n",
      " [4 5 6]\n",
      " [2 4 5]\n",
      " [5 1 3]]\n",
      "(4, 3)\n"
     ]
    }
   ],
   "source": [
    "s1 = tf.stack([x, y, z], axis=1).eval()\n",
    "print(s1)\n",
    "print(s1.shape)"
   ]
  },
  {
   "cell_type": "markdown",
   "id": "30bb5d6f",
   "metadata": {},
   "source": [
    "# Ones and Zeros like\n",
    "- tf.ones -> 각 행과 열 값을 1로 채워줌\n",
    "- tf.zeros -> 각 행과 열 값을 0으로 채워줌"
   ]
  },
  {
   "cell_type": "code",
   "execution_count": 294,
   "id": "4f9e3240",
   "metadata": {},
   "outputs": [
    {
     "data": {
      "text/plain": [
       "array([[1, 1, 1],\n",
       "       [1, 1, 1]])"
      ]
     },
     "execution_count": 294,
     "metadata": {},
     "output_type": "execute_result"
    }
   ],
   "source": [
    "x = [[0, 1, 2], [2, 1, 0]]\n",
    "tf.ones_like(x).eval()"
   ]
  },
  {
   "cell_type": "code",
   "execution_count": 295,
   "id": "fae69f9e",
   "metadata": {},
   "outputs": [
    {
     "data": {
      "text/plain": [
       "array([[0, 0, 0],\n",
       "       [0, 0, 0]])"
      ]
     },
     "execution_count": 295,
     "metadata": {},
     "output_type": "execute_result"
    }
   ],
   "source": [
    "x = [[0, 1, 2], [2, 1, 0]]\n",
    "tf.zeros_like(x).eval()"
   ]
  },
  {
   "cell_type": "markdown",
   "id": "0cab16fb",
   "metadata": {},
   "source": [
    "# zip\n",
    "- 다양한 tensor 값을 하나로 묶어서 각 인덱스의 data 값을 도출해줌"
   ]
  },
  {
   "cell_type": "code",
   "execution_count": 300,
   "id": "72c70498",
   "metadata": {},
   "outputs": [
    {
     "name": "stdout",
     "output_type": "stream",
     "text": [
      "1 4\n",
      "2 5\n",
      "3 6\n"
     ]
    }
   ],
   "source": [
    "for x, y in zip([1, 2, 3], [4, 5, 6]):\n",
    "    print(x, y)"
   ]
  },
  {
   "cell_type": "code",
   "execution_count": 301,
   "id": "7c4e8b0b",
   "metadata": {},
   "outputs": [
    {
     "name": "stdout",
     "output_type": "stream",
     "text": [
      "1 4 7\n",
      "2 5 8\n",
      "3 6 9\n"
     ]
    }
   ],
   "source": [
    "for x, y, z in zip([1, 2, 3], [4, 5, 6], [7, 8, 9]):\n",
    "    print(x, y, z)"
   ]
  },
  {
   "cell_type": "code",
   "execution_count": null,
   "id": "7161c5a5",
   "metadata": {},
   "outputs": [],
   "source": []
  },
  {
   "cell_type": "code",
   "execution_count": null,
   "id": "fc567dbb",
   "metadata": {},
   "outputs": [],
   "source": []
  },
  {
   "cell_type": "code",
   "execution_count": null,
   "id": "db8d4e0d",
   "metadata": {},
   "outputs": [],
   "source": []
  },
  {
   "cell_type": "code",
   "execution_count": null,
   "id": "772d3d80",
   "metadata": {},
   "outputs": [],
   "source": []
  }
 ],
 "metadata": {
  "kernelspec": {
   "display_name": "Python 3 (ipykernel)",
   "language": "python",
   "name": "python3"
  },
  "language_info": {
   "codemirror_mode": {
    "name": "ipython",
    "version": 3
   },
   "file_extension": ".py",
   "mimetype": "text/x-python",
   "name": "python",
   "nbconvert_exporter": "python",
   "pygments_lexer": "ipython3",
   "version": "3.9.7"
  }
 },
 "nbformat": 4,
 "nbformat_minor": 5
}

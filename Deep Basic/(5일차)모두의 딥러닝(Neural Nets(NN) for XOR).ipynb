{
 "cells": [
  {
   "cell_type": "markdown",
   "id": "d1ea3170",
   "metadata": {},
   "source": [
    "# 딥러닝 모델 설계 기본\n",
    "- k(x) = sigmoid(xw1+b1)\n",
    "- y = H(x) = sigmoid(k(x)w2+b2)"
   ]
  },
  {
   "cell_type": "markdown",
   "id": "258d9bcd",
   "metadata": {},
   "source": [
    "# tensorflow의 공식으로 적용할 경우 아래 수식과 같음"
   ]
  },
  {
   "cell_type": "markdown",
   "id": "b3c8dcc4",
   "metadata": {},
   "source": [
    "## K = tf.sigmoid(tf.matmul(X, W1) + b1)\n",
    "- 하나의 K 값을 형성하여 hypothesis를 만듦"
   ]
  },
  {
   "cell_type": "markdown",
   "id": "8ac65029",
   "metadata": {},
   "source": [
    "## hypothesis = tf.sigmoid(tf.matmul(K, W2) + b2)\n",
    "- x 값 안에 k를 넣고 이를 통해 최종 hypothesis를 형성함"
   ]
  },
  {
   "cell_type": "code",
   "execution_count": null,
   "id": "24bb217c",
   "metadata": {},
   "outputs": [],
   "source": [
    "import tensorflow.compat.v1 as tf\n",
    "tf.disable_v2_behavior()"
   ]
  }
 ],
 "metadata": {
  "kernelspec": {
   "display_name": "Python 3 (ipykernel)",
   "language": "python",
   "name": "python3"
  },
  "language_info": {
   "codemirror_mode": {
    "name": "ipython",
    "version": 3
   },
   "file_extension": ".py",
   "mimetype": "text/x-python",
   "name": "python",
   "nbconvert_exporter": "python",
   "pygments_lexer": "ipython3",
   "version": "3.9.7"
  }
 },
 "nbformat": 4,
 "nbformat_minor": 5
}

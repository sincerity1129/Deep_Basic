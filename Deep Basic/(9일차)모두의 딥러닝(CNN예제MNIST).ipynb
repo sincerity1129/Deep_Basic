{
 "cells": [
  {
   "cell_type": "code",
   "execution_count": null,
   "id": "3b69183d",
   "metadata": {},
   "outputs": [],
   "source": [
    "import tensorflow.compat.v1 as tf\n",
    "tf.disable_v2_behavior()\n",
    "from tensorflow.keras.utils import to_categorical\n",
    "import matplotlib.pyplot as plt\n",
    "import numpy as np\n",
    "from tqdm import tqdm"
   ]
  },
  {
   "cell_type": "code",
   "execution_count": null,
   "id": "2e969032",
   "metadata": {},
   "outputs": [],
   "source": [
    "mnist = tf.keras.datasets.mnist\n",
    "(x_train, y_train), (x_test, y_test) = mnist.load_data()\n",
    "nb_classes = 10"
   ]
  },
  {
   "cell_type": "code",
   "execution_count": null,
   "id": "036ff1de",
   "metadata": {},
   "outputs": [],
   "source": [
    "img = x_train[0]\n",
    "print(img.shape)\n",
    "plt.imshow(img, cmap=\"gray\")"
   ]
  },
  {
   "cell_type": "code",
   "execution_count": null,
   "id": "6f1eb9bb",
   "metadata": {},
   "outputs": [],
   "source": [
    "sess = tf.InteractiveSession()"
   ]
  },
  {
   "cell_type": "code",
   "execution_count": null,
   "id": "e73bcf92",
   "metadata": {},
   "outputs": [],
   "source": [
    "img = img.reshape(-1,28,28,1)\n",
    "img = tf.image.convert_image_dtype(img, tf.float32)\n",
    "W1 = tf.Variable(tf.random_normal([3,3,1,5], stddev=0.01))"
   ]
  },
  {
   "cell_type": "code",
   "execution_count": null,
   "id": "3c8466c0",
   "metadata": {},
   "outputs": [],
   "source": [
    "conv2d = tf.nn.conv2d(img, W1, strides=[1,2,2,1], padding=\"SAME\")\n",
    "print(conv2d)\n",
    "sess.close()"
   ]
  },
  {
   "cell_type": "code",
   "execution_count": null,
   "id": "8e29dddc",
   "metadata": {},
   "outputs": [],
   "source": [
    "# sess = tf.InteractiveSession()\n",
    "# sess.run(tf.global_variables_initializer())"
   ]
  },
  {
   "cell_type": "code",
   "execution_count": null,
   "id": "ba82d4ec",
   "metadata": {},
   "outputs": [],
   "source": [
    "# conv2d_img = conv2d.eval()\n",
    "# conv2d_img = np.swapaxes(conv2d, 0, 3)"
   ]
  },
  {
   "cell_type": "code",
   "execution_count": null,
   "id": "83073459",
   "metadata": {},
   "outputs": [],
   "source": [
    "# for i, one_img in enumerate(conv2d_img):\n",
    "#     plt.subplot(1,5,i+1), plt.imshow(one_img.reshape(14, 14), cmap=\"gray\")"
   ]
  },
  {
   "cell_type": "markdown",
   "id": "b669ca01",
   "metadata": {},
   "source": [
    "# CNN 실습 예제"
   ]
  },
  {
   "cell_type": "code",
   "execution_count": null,
   "id": "2edf1339",
   "metadata": {},
   "outputs": [],
   "source": [
    "import tensorflow.compat.v1 as tf\n",
    "tf.disable_v2_behavior()"
   ]
  },
  {
   "cell_type": "code",
   "execution_count": null,
   "id": "c42e51c4",
   "metadata": {},
   "outputs": [],
   "source": [
    "mnist = tf.keras.datasets.mnist\n",
    "(X_train, y_train), (X_test, y_test) = mnist.load_data()\n",
    "nb_classes = 10"
   ]
  },
  {
   "cell_type": "markdown",
   "id": "81a34f4c",
   "metadata": {},
   "source": [
    "###### reshape를 통해서 vector로 변환"
   ]
  },
  {
   "cell_type": "code",
   "execution_count": null,
   "id": "94fb99e9",
   "metadata": {},
   "outputs": [],
   "source": [
    "input_shape = X_train.shape[1] * X_train.shape[2]\n",
    "X_train = X_train.reshape(-1, input_shape) \n",
    "y_train = to_categorical(y_train, nb_classes)"
   ]
  },
  {
   "cell_type": "markdown",
   "id": "e6fb1b30",
   "metadata": {},
   "source": [
    "###### array to tensorflow"
   ]
  },
  {
   "cell_type": "code",
   "execution_count": null,
   "id": "cb6ee388",
   "metadata": {},
   "outputs": [],
   "source": [
    "X_train = tf.image.convert_image_dtype(X_train, tf.float32)\n",
    "y_train = tf.image.convert_image_dtype(y_train, tf.float32)"
   ]
  },
  {
   "cell_type": "code",
   "execution_count": null,
   "id": "f3cb69c1",
   "metadata": {},
   "outputs": [],
   "source": [
    "X = tf.placeholder(tf.float32, [None, 784])\n",
    "X_img = tf.reshape(X, [-1, 28, 28, 1])\n",
    "Y = tf.placeholder(tf.float32, [None, 10])"
   ]
  },
  {
   "cell_type": "code",
   "execution_count": null,
   "id": "9ab0368a",
   "metadata": {},
   "outputs": [],
   "source": [
    "W1 = tf.Variable(tf.random_normal([3,3,1,32], stddev=0.01))\n",
    "L1 = tf.nn.conv2d(X_img, W1, strides=[1,1,1,1], padding=\"SAME\")\n",
    "L1 = tf.nn.relu(L1)\n",
    "L1 = tf.nn.max_pool(L1, ksize=[1,2,2,1], strides = [1,2,2,1], padding=\"SAME\")"
   ]
  },
  {
   "cell_type": "code",
   "execution_count": null,
   "id": "acd0e009",
   "metadata": {},
   "outputs": [],
   "source": [
    "W2 = tf.Variable(tf.random_normal([3,3,32,64], stddev=0.01))\n",
    "L2 = tf.nn.conv2d(L1, W2, strides=[1,1,1,1], padding=\"SAME\")\n",
    "L2 = tf.nn.relu(L2)\n",
    "L2 = tf.nn.max_pool(L2, ksize=[1,2,2,1], strides = [1,2,2,1], padding=\"SAME\")\n",
    "L2 = tf.reshape(L2, [-1, 7 * 7 * 64])"
   ]
  },
  {
   "cell_type": "code",
   "execution_count": null,
   "id": "2a9c00aa",
   "metadata": {},
   "outputs": [],
   "source": [
    "W3 = tf.get_variable(\"W3\", shape=[7 * 7 * 64, 10], initializer= tf.compat.v1.keras.initializers.glorot_normal)"
   ]
  },
  {
   "cell_type": "code",
   "execution_count": null,
   "id": "63d5e301",
   "metadata": {
    "scrolled": true
   },
   "outputs": [],
   "source": [
    "b = tf.Variable(tf.random_normal([10]))\n",
    "hypothesis = tf.matmul(L2, W3) + b"
   ]
  },
  {
   "cell_type": "code",
   "execution_count": null,
   "id": "29652156",
   "metadata": {},
   "outputs": [],
   "source": [
    "learning_rate = 0.1\n",
    "training_epochs =15\n",
    "batch_size = 100\n",
    "cost = tf.reduce_mean(tf.nn.softmax_cross_entropy_with_logits(logits=hypothesis, labels=Y))\n",
    "optimizer = tf.train.AdamOptimizer(learning_rate=learning_rate).minimize(cost)"
   ]
  },
  {
   "cell_type": "code",
   "execution_count": null,
   "id": "3800863e",
   "metadata": {},
   "outputs": [],
   "source": [
    "sess = tf.InteractiveSession()\n",
    "sess.run(tf.global_variables_initializer())"
   ]
  },
  {
   "cell_type": "markdown",
   "id": "8da99ba2",
   "metadata": {},
   "source": [
    "# epoch 돌리는 부분"
   ]
  },
  {
   "cell_type": "code",
   "execution_count": null,
   "id": "d8ba154d",
   "metadata": {},
   "outputs": [],
   "source": [
    "print(\"Learning started. It takes sometime.\")\n",
    "for epoch in range(training_epochs):\n",
    "    avg_cost = 0\n",
    "    total_batch = int(60000 / batch_size)\n",
    "    for i in tqdm(range(total_batch)):\n",
    "        batch_xs, batch_ys = X_train[(i*batch_size):batch_size+(i*batch_size)].eval(), y_train[(i*batch_size):batch_size+(i*batch_size)].eval()\n",
    "        c, _ = sess.run([cost, optimizer], feed_dict={X: batch_xs, Y:batch_ys})\n",
    "        avg_cost += c / total_batch\n",
    "    print(\"Epoch:\", \"%04d\" % (epoch + 1), \"cost =\", \"{:.9f}\".format(avg_cost))\n",
    "print(\"Learning Finished!\")"
   ]
  },
  {
   "cell_type": "markdown",
   "id": "7fa83108",
   "metadata": {},
   "source": [
    "# 예측하기"
   ]
  },
  {
   "cell_type": "code",
   "execution_count": null,
   "id": "3dd3567b",
   "metadata": {},
   "outputs": [],
   "source": [
    "input_shape = X_test.shape[1] * X_test.shape[2]\n",
    "X_test = X_test.reshape(-1, input_shape) \n",
    "y_test = to_categorical(y_train, nb_classes)"
   ]
  },
  {
   "cell_type": "code",
   "execution_count": null,
   "id": "645d6170",
   "metadata": {},
   "outputs": [],
   "source": [
    "X_test = tf.image.convert_image_dtype(X_test, tf.float32)\n",
    "y_test = tf.image.convert_image_dtype(y_test, tf.float32)"
   ]
  },
  {
   "cell_type": "code",
   "execution_count": null,
   "id": "d39697b4",
   "metadata": {},
   "outputs": [],
   "source": [
    "correct_prediction = tf.equal(tf.argmax(hypothesis, 1), tf.argmax(Y, 1))\n",
    "accuracy = tf.reduce_mean(tf.cast(correct_prediction, tf.float32))\n",
    "print(\"Accuracy:\", sess.run(accuracy, feed_dict={X: mnist.test.images, Y: mnist.test.labels}))"
   ]
  },
  {
   "cell_type": "code",
   "execution_count": null,
   "id": "f01a06c8",
   "metadata": {},
   "outputs": [],
   "source": []
  },
  {
   "cell_type": "code",
   "execution_count": null,
   "id": "5827ebe8",
   "metadata": {},
   "outputs": [],
   "source": []
  },
  {
   "cell_type": "code",
   "execution_count": null,
   "id": "e46a34f1",
   "metadata": {},
   "outputs": [],
   "source": []
  },
  {
   "cell_type": "code",
   "execution_count": null,
   "id": "ac7abd39",
   "metadata": {},
   "outputs": [],
   "source": []
  },
  {
   "cell_type": "code",
   "execution_count": null,
   "id": "64b7fe2d",
   "metadata": {},
   "outputs": [],
   "source": []
  },
  {
   "cell_type": "code",
   "execution_count": null,
   "id": "08141e80",
   "metadata": {},
   "outputs": [],
   "source": []
  },
  {
   "cell_type": "code",
   "execution_count": null,
   "id": "8d38baf5",
   "metadata": {},
   "outputs": [],
   "source": []
  }
 ],
 "metadata": {
  "kernelspec": {
   "display_name": "Python 3 (ipykernel)",
   "language": "python",
   "name": "python3"
  },
  "language_info": {
   "codemirror_mode": {
    "name": "ipython",
    "version": 3
   },
   "file_extension": ".py",
   "mimetype": "text/x-python",
   "name": "python",
   "nbconvert_exporter": "python",
   "pygments_lexer": "ipython3",
   "version": "3.9.7"
  }
 },
 "nbformat": 4,
 "nbformat_minor": 5
}

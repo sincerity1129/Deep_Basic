{
 "cells": [
  {
   "cell_type": "markdown",
   "id": "b0dcaa6f",
   "metadata": {},
   "source": [
    "# binary_classification(Sigmoid 활용 0.5보다 높으면 1, 낮으면 0에 수렴)\n",
    "- g(z) = 1/1+e-(w(t)*x) -> simoid 공식[여기서 e안의 -(wt*x)가 z 값을 의미//t는 w의 제곱이고 이것에 x 값을 곱해주는 형태]\n",
    "- e-(w(t)*x)에서 w(t)가 상수 이므로 g(z) = 1/1+e-(w)식의 sigmoid 공식\n",
    "- simoid를 활용한다면 기존의 cost가 최적의 minimize를 못찾을 수 있으므로 cost의 수정이 필요\n",
    "- C(H(x),y) = -log(H(x)) : y = 1\n",
    "-           -log(1-H(x)) : y = 0\n",
    "- cost:(H(x),y) = -ylog(H(x)) - (1-y)log(1-H(x))\n",
    "- 수식 풀이: y=1 일 때,  -log(H(x)) // y=0 일 때 -log(1-H(x)) ->sigmoid 자체가 0 또는 1의 값만 가지므로 공식은 두개만 가짐"
   ]
  },
  {
   "cell_type": "markdown",
   "id": "3fbe74e8",
   "metadata": {},
   "source": [
    "# classification - 수식 적용"
   ]
  },
  {
   "cell_type": "code",
   "execution_count": 1,
   "id": "5229e95b",
   "metadata": {},
   "outputs": [
    {
     "name": "stdout",
     "output_type": "stream",
     "text": [
      "WARNING:tensorflow:From C:\\Users\\since\\anaconda3\\lib\\site-packages\\tensorflow\\python\\compat\\v2_compat.py:101: disable_resource_variables (from tensorflow.python.ops.variable_scope) is deprecated and will be removed in a future version.\n",
      "Instructions for updating:\n",
      "non-resource variables are not supported in the long term\n"
     ]
    }
   ],
   "source": [
    "import tensorflow.compat.v1 as tf\n",
    "tf.disable_v2_behavior()"
   ]
  },
  {
   "cell_type": "code",
   "execution_count": 11,
   "id": "0bf172f8",
   "metadata": {},
   "outputs": [],
   "source": [
    "x_data = [[1,2], [2,3], [3,1], [4,3], [5,3], [6,2]]\n",
    "y_data = [[0], [0], [0], [1], [1], [1]]"
   ]
  },
  {
   "cell_type": "markdown",
   "id": "bc769b11",
   "metadata": {},
   "source": [
    "###### W가 2,1인 이유는 앞은 shape 뒤는 output을 의미"
   ]
  },
  {
   "cell_type": "code",
   "execution_count": 12,
   "id": "7724d2b1",
   "metadata": {},
   "outputs": [],
   "source": [
    "X = tf.placeholder(tf.float32, shape = [None, 2])\n",
    "Y = tf.placeholder(tf.float32, shape = [None, 1])\n",
    "W = tf.Variable(tf.random_normal([2, 1], name=\"Weight\"))\n",
    "b = tf.Variable(tf.random_normal([1], name=\"bias\"))"
   ]
  },
  {
   "cell_type": "markdown",
   "id": "411fb31f",
   "metadata": {},
   "source": [
    "###### tf.matmul(X, W) + b 이 부분이  1/1+e-(wt*x)을 의미함\n",
    "- sigmoid 공식 자체가 s(z) = 1/1+e-z이므로 -z 부분에 넣을 수 있는게 hypothesis가 되고 가중치 부분을 넣어주는것임\n",
    "- 따라서 z 부분이 wt*x로 표현되는 이유는 x는 데이터의 개수이므로 행을 담당하게 되고 앞에 X를 써주게 됨\n",
    "- 그리고 W에 t를 제곱해주는 것이 가중치를 얼마나 주는지 여부이므로 수식을 이와 같이 표현하였고 이 부분이 열을 담당하게됨\n",
    "- b는 상수이므로 미분하면 0에 수렴하므로 공식 자체에서 적용되지 않음"
   ]
  },
  {
   "cell_type": "code",
   "execution_count": 13,
   "id": "a04e17b7",
   "metadata": {},
   "outputs": [],
   "source": [
    "hypothesis = tf.sigmoid(tf.matmul(X, W) + b)"
   ]
  },
  {
   "cell_type": "markdown",
   "id": "015ff319",
   "metadata": {},
   "source": [
    "###### cost:(H(x),y) = -ylog(H(x)) - (1-y)log(1-H(x))"
   ]
  },
  {
   "cell_type": "code",
   "execution_count": 14,
   "id": "9d896b2b",
   "metadata": {},
   "outputs": [],
   "source": [
    "cost = -tf.reduce_mean(Y * tf.log(hypothesis) + (1-Y) * tf.log(1-hypothesis))"
   ]
  },
  {
   "cell_type": "code",
   "execution_count": 15,
   "id": "143d56e7",
   "metadata": {},
   "outputs": [],
   "source": [
    "train = tf.train.GradientDescentOptimizer(learning_rate=0.01).minimize(cost)"
   ]
  },
  {
   "cell_type": "markdown",
   "id": "bc819a01",
   "metadata": {},
   "source": [
    "###### tf.cast는 값을 0 또는 1로 출력될 수 있게 만듦"
   ]
  },
  {
   "cell_type": "code",
   "execution_count": 16,
   "id": "25fbd735",
   "metadata": {},
   "outputs": [],
   "source": [
    "predicted = tf.cast(hypothesis > 0.5, dtype=tf.float32)\n",
    "accuracy = tf.reduce_mean(tf.cast(tf.equal(predicted, Y), dtype=tf.float32))"
   ]
  },
  {
   "cell_type": "code",
   "execution_count": 17,
   "id": "2379e7df",
   "metadata": {},
   "outputs": [],
   "source": [
    "sess = tf.Session()\n",
    "sess.run(tf.global_variables_initializer())"
   ]
  },
  {
   "cell_type": "code",
   "execution_count": 18,
   "id": "33b76558",
   "metadata": {
    "scrolled": true
   },
   "outputs": [
    {
     "name": "stdout",
     "output_type": "stream",
     "text": [
      "0 2.081968\n",
      "200 0.43840972\n",
      "400 0.40882292\n",
      "600 0.38872123\n",
      "800 0.37302518\n",
      "1000 0.35968146\n",
      "1200 0.3477632\n",
      "1400 0.33681774\n",
      "1600 0.32660702\n",
      "1800 0.31699675\n",
      "2000 0.30790454\n",
      "2200 0.2992758\n",
      "2400 0.29107055\n",
      "2600 0.28325757\n",
      "2800 0.2758108\n",
      "3000 0.26870736\n",
      "3200 0.26192656\n",
      "3400 0.25544968\n",
      "3600 0.24925911\n",
      "3800 0.24333858\n",
      "4000 0.237673\n",
      "4200 0.23224795\n",
      "4400 0.22705014\n",
      "4600 0.222067\n",
      "4800 0.21728672\n",
      "5000 0.21269828\n",
      "5200 0.20829143\n",
      "5400 0.2040564\n",
      "5600 0.19998413\n",
      "5800 0.196066\n",
      "6000 0.19229412\n",
      "6200 0.18866086\n",
      "6400 0.18515925\n",
      "6600 0.18178274\n",
      "6800 0.17852496\n",
      "7000 0.17538011\n",
      "7200 0.17234278\n",
      "7400 0.16940773\n",
      "7600 0.16657016\n",
      "7800 0.16382542\n",
      "8000 0.1611692\n",
      "8200 0.15859754\n",
      "8400 0.15610652\n",
      "8600 0.15369254\n",
      "8800 0.15135218\n",
      "9000 0.14908226\n",
      "9200 0.14687972\n",
      "9400 0.14474164\n",
      "9600 0.14266537\n",
      "9800 0.1406483\n",
      "10000 0.1386879\n"
     ]
    }
   ],
   "source": [
    "for step in range(10001):\n",
    "    cost_val, _ = sess.run([cost, train], feed_dict={X: x_data, Y: y_data})\n",
    "    if step % 200 == 0:\n",
    "        print(step, cost_val)"
   ]
  },
  {
   "cell_type": "markdown",
   "id": "61702541",
   "metadata": {},
   "source": [
    "###### 앞의 3개의 hypothesis는 0.5보다 작으므로 0으로 수렴하고 뒤의 3개의 hypothesis는 0.5보다 크므로 1에 수렴"
   ]
  },
  {
   "cell_type": "code",
   "execution_count": 19,
   "id": "dc23cf81",
   "metadata": {
    "collapsed": true
   },
   "outputs": [
    {
     "name": "stdout",
     "output_type": "stream",
     "text": [
      "\n",
      "Hypothesis:  [[0.02632853]\n",
      " [0.15239996]\n",
      " [0.28300574]\n",
      " [0.7915553 ]\n",
      " [0.9458046 ]\n",
      " [0.98227936]] \n",
      "Correct (Y):  [[0.]\n",
      " [0.]\n",
      " [0.]\n",
      " [1.]\n",
      " [1.]\n",
      " [1.]] \n",
      "Accuracy:  1.0\n"
     ]
    }
   ],
   "source": [
    "h, c, a = sess.run([hypothesis, predicted, accuracy], feed_dict={X: x_data, Y: y_data})\n",
    "print(\"\\nHypothesis: \", h, \"\\nCorrect (Y): \", c, \"\\nAccuracy: \", a)"
   ]
  }
 ],
 "metadata": {
  "kernelspec": {
   "display_name": "Python 3 (ipykernel)",
   "language": "python",
   "name": "python3"
  },
  "language_info": {
   "codemirror_mode": {
    "name": "ipython",
    "version": 3
   },
   "file_extension": ".py",
   "mimetype": "text/x-python",
   "name": "python",
   "nbconvert_exporter": "python",
   "pygments_lexer": "ipython3",
   "version": "3.9.7"
  }
 },
 "nbformat": 4,
 "nbformat_minor": 5
}

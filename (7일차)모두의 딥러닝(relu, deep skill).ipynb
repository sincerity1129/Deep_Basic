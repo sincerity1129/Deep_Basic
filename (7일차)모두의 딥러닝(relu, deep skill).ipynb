{
 "cells": [
  {
   "cell_type": "markdown",
   "id": "738cb03a",
   "metadata": {},
   "source": [
    "# Relu 활성화 함수\n",
    "- 0보다 작은 값에 대해서는 컴퓨터가 인식하지 않고 0보다 큰 값의 경우 값을 그대로 나타내줌\n",
    "- sigmoid의 경우 0과 1사이의 값을 가지므로 값이 작아질 수 밖에 없으므로 정확도가 떨어지는 것을 보완하기 위해 나온 함수"
   ]
  },
  {
   "cell_type": "markdown",
   "id": "48d67317",
   "metadata": {},
   "source": [
    "### tf.random_uniform(a, b, c) -> a = shape // b와 c의 사이 값을 갖는 정규분포 난수를 갖게 해줌\n",
    "-  tf.random_uniform([2,2], -1, 1) -> 2,2의 shape를 가지며 값은 -1~1 사이의 값을 가지는 2차원 배열을 생성"
   ]
  },
  {
   "cell_type": "markdown",
   "id": "c26bcca7",
   "metadata": {},
   "source": [
    "# Weight 초기화(layer층을 지나면서 W 값을 보존하는 것을 의미)\n",
    "- weight는 0을 줄 경우 모든 값을 전달하지 않게 되어 값을 구할 수 없기 때문 0을 주면 안됨\n",
    "- weight 초기화를 위해 RBM(Restricted Boatman Machine)을 활용하는데 현재는 잘 사용하지 않음\n",
    "- RBM이 복잡하기 때문에 나온게 Xavier initialization이 나오게 됨"
   ]
  },
  {
   "cell_type": "markdown",
   "id": "c8e12d8f",
   "metadata": {},
   "source": [
    "# Xavier initialization 전체 함수식(Weight 초기화 해주는 함수)"
   ]
  },
  {
   "cell_type": "code",
   "execution_count": 7,
   "id": "e761e55f",
   "metadata": {},
   "outputs": [],
   "source": [
    "import tensorflow.compat.v1 as tf\n",
    "tf.disable_v2_behavior()"
   ]
  },
  {
   "cell_type": "code",
   "execution_count": 8,
   "id": "bac0fc49",
   "metadata": {},
   "outputs": [],
   "source": [
    "def xavier_init(n_inputs, n_outputs, uniform=True):\n",
    "    if uniform:\n",
    "        init_range = math.sqrt(6.0 / (n_inputs + n_outputs))\n",
    "        return tf.random_uniform_initializer(-init_range, init_range)\n",
    "    else:\n",
    "        stddev = math.sqrt(3.0 / (n_inputs + n_outputs))\n",
    "        return tf.truncated_normal_initializer(stddev=stddev)"
   ]
  },
  {
   "cell_type": "markdown",
   "id": "0a9b3ebb",
   "metadata": {},
   "source": [
    "# Dropout(몇가지 node 값들을 제외하고 다음 layer층으로 보내는 것)"
   ]
  },
  {
   "cell_type": "code",
   "execution_count": 9,
   "id": "7e5d78b1",
   "metadata": {},
   "outputs": [],
   "source": [
    "import tensorflow.compat.v1 as tf\n",
    "tf.disable_v2_behavior()"
   ]
  },
  {
   "cell_type": "markdown",
   "id": "896cfe0d",
   "metadata": {},
   "source": [
    "###### dropout 사용 방식\n",
    "- dropout_rate의 경우 비율을 조정할 수 있고 보통 0.5를 많이 사용하는데 전체 노드에서 제거되는 노드 비율을 의미(0.7 -> 30% 노드 제거)\n",
    "- train의 경우 dropout을 적용하지만 test의 경우 실전이므로 모든 노드를 통해 결과를 만들어야 되기 때문에 반드시 1로 정의해야함"
   ]
  },
  {
   "cell_type": "code",
   "execution_count": 12,
   "id": "551dce6a",
   "metadata": {
    "scrolled": true
   },
   "outputs": [],
   "source": [
    "# dropout_rate = tf.placeholder(\"float\")\n",
    "# _L1 = tf.nn.relu(tf.add(tf.matmul(X,W1),B1))\n",
    "# L1 = tf.nn.dropout(_L1, dropout_rate)"
   ]
  },
  {
   "cell_type": "markdown",
   "id": "a2cf3b2e",
   "metadata": {},
   "source": [
    "# skill 관련\n",
    "- Ensable(여러모델 별로 학습을 시킨 후 통합하여 결과 도출)\n",
    "- Feedforward neural network(layer층을 조립하는 것)\n",
    "- Fast forward(여러 layer층 중에 일부를 건너띄고 학습할 수 있게 하는 방식)\n",
    "- Split & merge(layer층을 분리하거나 합쳐서 학습시키는 방식)\n",
    "- Recurrent network(RNN) 현재 layer층에서 옆으로 전달도 하면서 학습시키는 방식"
   ]
  },
  {
   "cell_type": "markdown",
   "id": "0c0a17a3",
   "metadata": {},
   "source": [
    "# deep skill 사용"
   ]
  },
  {
   "cell_type": "markdown",
   "id": "71a1b032",
   "metadata": {},
   "source": [
    "# Xavier initialization 사용법\n",
    "- W = tf.get_variable(\"W1\", shape =[], initializer = tf.contrib.layers.xavier_initializer())\n",
    "- 이와 같은 방식으로 사용\n",
    "- 무작정 layer층을 깊게 쌓고 넓게 쌓는다고 해서 좋은 데이터가 나오는 것은 아님"
   ]
  },
  {
   "cell_type": "markdown",
   "id": "fff6c720",
   "metadata": {},
   "source": [
    "# Dropout 사용법\n",
    "- w, b, layer층을 쌓은 다음 tf.nn.dropout(layer, keep_prob=keep_prob) // keep_prob = tf.placeholder(tf.float32)\n",
    "- 이와 같은 방식으로 사용\n",
    "- dropout을 통해 과대적합된 학습에서 벗어날 수 있게 해줌"
   ]
  }
 ],
 "metadata": {
  "kernelspec": {
   "display_name": "Python 3 (ipykernel)",
   "language": "python",
   "name": "python3"
  },
  "language_info": {
   "codemirror_mode": {
    "name": "ipython",
    "version": 3
   },
   "file_extension": ".py",
   "mimetype": "text/x-python",
   "name": "python",
   "nbconvert_exporter": "python",
   "pygments_lexer": "ipython3",
   "version": "3.9.7"
  }
 },
 "nbformat": 4,
 "nbformat_minor": 5
}
